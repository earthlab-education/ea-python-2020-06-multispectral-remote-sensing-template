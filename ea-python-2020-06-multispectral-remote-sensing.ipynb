{
 "cells": [
  {
   "cell_type": "markdown",
   "metadata": {},
   "source": [
    "<img style=\"float: left;\" src=\"earth-lab-logo-rgb.png\" width=\"150\" height=\"150\" />\n",
    "\n",
    "# Homework Template: Earth Analytics Python Course: Spring 2020"
   ]
  },
  {
   "cell_type": "markdown",
   "metadata": {},
   "source": [
    "Before submitting this assignment, be sure to restart the kernel and run all cells. To do this, pull down the Kernel drop down at the top of this notebook. Then select **restart and run all**.\n",
    "\n",
    "Make sure you fill in any place that says `YOUR CODE HERE` or \"YOUR ANSWER HERE\", as well as your name and collaborators below.\n",
    "\n",
    "* IMPORTANT: Before you submit your notebook, restart the kernel and run all! Your first cell in the notebook should be `[1]` and all cells should run in order! You will lose points if your notebook does not run. \n",
    "\n",
    "For all plots and code in general:\n",
    "\n",
    "* Add appropriate titles to your plot that clearly and concisely describe what the plot shows (e.g. time, location, phenomenon).\n",
    "* Be sure to use the correct bands for each plot.\n",
    "* Specify the source of the data for each plot using a plot caption created with `ax.text()`.\n",
    "* Place ONLY the code needed to create a plot in the plot cells. Place additional processing code ABOVE that cell (in a separate code cell).\n",
    "\n",
    "Make sure that you:\n",
    "\n",
    "* **Only include the package imports, code, data, and outputs that are CRUCIAL to your homework assignment.**\n",
    "* Follow PEP 8 standards. Use the `pep8` tool in Jupyter Notebook to ensure proper formatting (however, note that it does not catch everything!).\n",
    "* Keep comments concise and strategic. Don't comment every line!\n",
    "* Organize your code in a way that makes it easy to follow. \n",
    "* Write your code so that it can be run on any operating system. This means that:\n",
    "   1. the data should be downloaded in the notebook to ensure it's reproducible.\n",
    "   2. all paths should be created dynamically using the os package to ensure that they work across operating systems. \n",
    "* Check for spelling errors in your text and code comments\n"
   ]
  },
  {
   "cell_type": "code",
   "execution_count": null,
   "metadata": {},
   "outputs": [],
   "source": [
    "NAME = \"\"\n",
    "COLLABORATORS = \"\""
   ]
  },
  {
   "cell_type": "markdown",
   "metadata": {},
   "source": [
    "![Colored Bar](colored-bar.png)"
   ]
  },
  {
   "cell_type": "markdown",
   "metadata": {
    "deletable": false,
    "editable": false,
    "nbgrader": {
     "cell_type": "markdown",
     "checksum": "9fe0164be9b7f4842d9bdb7150e03e3a",
     "grade": false,
     "grade_id": "cell-80d0ba06e0646634",
     "locked": true,
     "schema_version": 3,
     "solution": false,
     "task": false
    },
    "tags": [
     "hide"
    ]
   },
   "source": [
    "# Week 06 Homework - Introduction to Multispectral Remote Sensing Data\n",
    "\n",
    "For this assignment, you will work with NAIP and Landsat images taken before and after the 2016 Cold Springs Fire in Colorado. \n",
    "\n",
    "The data that you will use for this week is available from **earthpy** using the following download: \n",
    "\n",
    "`et.data.get_data('cold-springs-fire')`\n",
    "\n",
    "#### HINTS\n",
    "\n",
    "* You will need to reproject the fire boundary to get it to overlay properly on top of each remote sensing dataset above. \n",
    "* Don't forget to set the spatial `extent` for each plot to ensure that the data plot correctly!\n",
    "* You can use `ax.text()` to add text to a matplotlib plot.\n",
    "`ax.text(.5, .05, \"Your Caption Here\" , ha='center')`"
   ]
  },
  {
   "cell_type": "code",
   "execution_count": null,
   "metadata": {
    "deletable": false,
    "editable": false,
    "nbgrader": {
     "cell_type": "code",
     "checksum": "2af8412063d71ff5ad990e83f4d561df",
     "grade": false,
     "grade_id": "cell-7bfd6e179ab03b23",
     "locked": true,
     "schema_version": 3,
     "solution": false,
     "task": false
    }
   },
   "outputs": [],
   "source": [
    "# Autograding imports - do not modify this cell\n",
    "# import matplotcheck.base as mpc\n",
    "import matplotcheck.autograde as ag\n",
    "import matplotcheck.notebook as nb\n",
    "import matplotcheck.raster as rs"
   ]
  },
  {
   "cell_type": "code",
   "execution_count": null,
   "metadata": {
    "deletable": false,
    "extensions": {
     "jupyter_dashboards": {
      "version": 1,
      "views": {
       "grid_default": {},
       "report_default": {
        "hidden": true
       }
      }
     }
    },
    "nbgrader": {
     "cell_type": "code",
     "checksum": "841d48372e0400a346b1b2e8cc55635f",
     "grade": true,
     "grade_id": "cell-3b6ec779fdb000e6",
     "locked": false,
     "points": 4,
     "schema_version": 3,
     "solution": true,
     "task": false
    },
    "tags": [
     "hide"
    ]
   },
   "outputs": [],
   "source": [
    "# Import needed packages in PEP 8 order (no unused imports listed) (4 points total)\n",
    "\n",
    "# YOUR CODE HERE\n",
    "raise NotImplementedError()"
   ]
  },
  {
   "cell_type": "markdown",
   "metadata": {
    "deletable": false,
    "editable": false,
    "extensions": {
     "jupyter_dashboards": {
      "version": 1,
      "views": {
       "grid_default": {},
       "report_default": {
        "hidden": false
       }
      }
     }
    },
    "nbgrader": {
     "cell_type": "markdown",
     "checksum": "5ef270b7088db65c079c2a76482c98c7",
     "grade": false,
     "grade_id": "cell-32f913917edf10d5",
     "locked": true,
     "schema_version": 3,
     "solution": false,
     "task": false
    }
   },
   "source": [
    "# Figure 1: Plots 1 & 2 - RGB & CIR Images Using NAIP Data (10 points each)\n",
    "\n",
    "### Download Post Fire NAIP data\n",
    "\n",
    "Using Earth Explorer, download NAIP data from 2017 (post fire). ([Review the lesson on downloading NAIP data](https://www.earthdatascience.org/courses/use-data-open-source-python/multispectral-remote-sensing/intro-naip/get-naip-data-earth-explorer/).)\n",
    "\n",
    "If all goes well, your file name should be: `m_3910505_nw_13_1_20170902.tif` where `20170902` represents the year month and day of the data. The first part of the file represents the area that the image covers.\n",
    "\n",
    "### Figure Instructions\n",
    "\n",
    "Crop the 2017 NAIP data to the spatial extent of the 2015 NAIP data. The code below will help you to define the spatial extent of the 2015 NAIP data. In the example below, `naip_2015_bds` is the `.bounds` attribute of the NAIP 2015 rasterio reader object. \n",
    "\n",
    "`naip_clip_extent = [box(*naip_2015_bds)]`\n",
    "\n",
    "Using the cropped 2017 NAIP data, create a figure with two subplots:\n",
    "1. RGB image of the study site using the post fire NAIP data. \n",
    "2. Color Infrared (CIR) image of the study site using the post fire NAIP data.\n",
    "\n",
    "Include the Cold Springs fire boundary on each subplot. \n",
    "\n",
    "### Hints \n",
    "\n",
    "* Make sure that you use the correct bands to create both images.\n",
    "    * In a CIR image, the:\n",
    "      * Infrared band will appear red.\n",
    "      * Red band will appear green.\n",
    "      * Green band will appear blue.\n",
    "* Title should include the date that the data were collected.\n",
    "\n",
    "### Necessary Data\n",
    "\n",
    "Use the following data to create these plots: \n",
    "* NAIP 2015: \n",
    "`cold-springs-fire/naip/m_3910505_nw_13_1_20150919/crop/m_3910505_nw_13_1_20150919_crop.tif`\n",
    "* NAIP 2017: Use the data you download from EarthExplorer\n",
    "* Fire Boundary: \n",
    "`data/cold-springs-fire/vector_layers/fire-boundary-geomac/co_cold_springs_20160711_2200_dd83.shp`"
   ]
  },
  {
   "cell_type": "code",
   "execution_count": null,
   "metadata": {
    "deletable": false,
    "extensions": {
     "jupyter_dashboards": {
      "version": 1,
      "views": {
       "grid_default": {},
       "report_default": {
        "hidden": true
       }
      }
     }
    },
    "nbgrader": {
     "cell_type": "code",
     "checksum": "98b8a9b0b5344c22aad7a417b02d0311",
     "grade": false,
     "grade_id": "cell-5aac8bb55001ffe5",
     "locked": false,
     "schema_version": 3,
     "solution": true,
     "task": false
    },
    "tags": [
     "hide"
    ]
   },
   "outputs": [],
   "source": [
    "# Open both NAIP datasets & reproject fire boundary vector data as needed\n",
    "\n",
    "# YOUR CODE HERE\n",
    "raise NotImplementedError()"
   ]
  },
  {
   "cell_type": "code",
   "execution_count": null,
   "metadata": {
    "caption": "Homework plots 1 & 2 RGB and CIR images using NAIP data from 2017.",
    "deletable": false,
    "extensions": {
     "jupyter_dashboards": {
      "version": 1,
      "views": {
       "grid_default": {},
       "report_default": {
        "hidden": false
       }
      }
     }
    },
    "nbgrader": {
     "cell_type": "code",
     "checksum": "6482bb9668767accffc9244c0be47f2d",
     "grade": false,
     "grade_id": "cell-980e626e8465845a",
     "locked": false,
     "schema_version": 3,
     "solution": true,
     "task": false
    },
    "tags": [
     "hide"
    ]
   },
   "outputs": [],
   "source": [
    "# Add plot code only for plots 1 and 2 here\n",
    "# IMPORTANT: name your axes: ax1, ax2\n",
    "\n",
    "# YOUR CODE HERE\n",
    "raise NotImplementedError()\n",
    "\n",
    "### DO NOT REMOVE LINES BELOW ###\n",
    "fig01_solution_rgb = rs.RasterTester(ax1)\n",
    "fig01_solution_cir = rs.RasterTester(ax2)\n",
    "fig01_NAIP_fire_RGB_CIR = nb.convert_axes(plt, which_axes=\"all\")"
   ]
  },
  {
   "cell_type": "code",
   "execution_count": null,
   "metadata": {
    "deletable": false,
    "editable": false,
    "nbgrader": {
     "cell_type": "code",
     "checksum": "4f10630613074b22deefa862e16fd3e4",
     "grade": true,
     "grade_id": "cell-bd3bcf32cfd3f952",
     "locked": true,
     "points": 10,
     "schema_version": 3,
     "solution": false,
     "task": false
    }
   },
   "outputs": [],
   "source": [
    "# Tests for figure 1 ax 1 (plot 1) - NAIP RGB plot\n",
    "# You can skip this cell!\n"
   ]
  },
  {
   "cell_type": "code",
   "execution_count": null,
   "metadata": {
    "deletable": false,
    "editable": false,
    "nbgrader": {
     "cell_type": "code",
     "checksum": "8a872bbecd7f1b4436b676f09c96990d",
     "grade": true,
     "grade_id": "cell-d9c06c8dc0b773a5",
     "locked": true,
     "points": 10,
     "schema_version": 3,
     "solution": false,
     "task": false
    }
   },
   "outputs": [],
   "source": [
    "# Tests for figure 1 ax 2 (plot 2) - CIR values"
   ]
  },
  {
   "cell_type": "markdown",
   "metadata": {
    "deletable": false,
    "editable": false,
    "nbgrader": {
     "cell_type": "markdown",
     "checksum": "ebe2aa424f48370f14657b071dd944b9",
     "grade": false,
     "grade_id": "cell-32c9bc7820e06e79",
     "locked": true,
     "schema_version": 3,
     "solution": false,
     "task": false
    }
   },
   "source": [
    "## Question 1 (5 points)\n",
    "\n",
    "1. What does the CIR image highlight?\n",
    "2. Which band, and which the wavelengths contained in that band, allow a CIR image to highlight the thing that you identified above?\n",
    "\n",
    "Answer the questions in the Markdown cell below."
   ]
  },
  {
   "cell_type": "markdown",
   "metadata": {
    "deletable": false,
    "nbgrader": {
     "cell_type": "markdown",
     "checksum": "7f0c67626e23be4a622681a9ecc03e0f",
     "grade": true,
     "grade_id": "cell-e2fa47fab20a4d61",
     "locked": false,
     "points": 5,
     "schema_version": 3,
     "solution": true,
     "task": false
    }
   },
   "source": [
    "YOUR ANSWER HERE"
   ]
  },
  {
   "cell_type": "markdown",
   "metadata": {
    "deletable": false,
    "editable": false,
    "extensions": {
     "jupyter_dashboards": {
      "version": 1,
      "views": {
       "grid_default": {},
       "report_default": {
        "hidden": false
       }
      }
     }
    },
    "nbgrader": {
     "cell_type": "markdown",
     "checksum": "85c054593dedbfacabcb63f4ad1c3486",
     "grade": false,
     "grade_id": "cell-27f84a4bd8964a11",
     "locked": true,
     "schema_version": 3,
     "solution": false,
     "task": false
    }
   },
   "source": [
    "# Figure 2, Plot 3: Create a Plot of the Difference NDVI Using NAIP Data from 2017 & 2015 (15 points)\n",
    "\n",
    "Calculate and plot the DIFFERENCE between NDVI in 2017 and 2015. To calculate difference, **subtract the pre-fire data from the post fire data (post - pre)** to ensure that negative values represent a decrease in NDVI between the two years. \n",
    "\n",
    "To complete this plot, you will need to:\n",
    "\n",
    "1. Use the 2017 NAIP data downloaded from Earth Explorer.\n",
    "2. Ensure that the 2017 NAIP data are CLIPPED to the 2015 data boundary so the extents are the same.\n",
    "\n",
    "Include the Cold Springs fire polygon boundary on your plot. \n",
    "\n",
    "### Hints\n",
    "\n",
    "* This difference calculation will only work if your numpy arrays have the same `.shape`.\n",
    "* You will need to coerce your 2017 data to be an integer by using `array.astype(int)` to avoid a division error.\n",
    "* Title should include the dates that the data were collected.\n",
    "\n",
    "### Necessary Data\n",
    "\n",
    "Use the following data to create this plot: \n",
    "* NAIP 2015: \n",
    "`cold-springs-fire/naip/m_3910505_nw_13_1_20150919/crop/m_3910505_nw_13_1_20150919_crop.tif`\n",
    "* NAIP 2017: Use the data you download from EarthExplorer\n",
    "* Fire Boundary: \n",
    "`data/cold-springs-fire/vector_layers/fire-boundary-geomac/co_cold_springs_20160711_2200_dd83.shp`"
   ]
  },
  {
   "cell_type": "code",
   "execution_count": null,
   "metadata": {
    "deletable": false,
    "extensions": {
     "jupyter_dashboards": {
      "version": 1,
      "views": {
       "grid_default": {},
       "report_default": {
        "hidden": true
       }
      }
     }
    },
    "nbgrader": {
     "cell_type": "code",
     "checksum": "0accfcab09297fdd96d1fb5267fe050d",
     "grade": false,
     "grade_id": "cell-3cea9a14f2b5ec51",
     "locked": false,
     "schema_version": 3,
     "solution": true,
     "task": false
    },
    "tags": [
     "hide"
    ]
   },
   "outputs": [],
   "source": [
    "# Calculate NDVI for 2015 and 2017 NAIP data\n",
    "# Calculate NDVI Difference between 2015 and 2017\n",
    "\n",
    "# YOUR CODE HERE\n",
    "raise NotImplementedError()"
   ]
  },
  {
   "cell_type": "code",
   "execution_count": null,
   "metadata": {
    "deletable": false,
    "nbgrader": {
     "cell_type": "code",
     "checksum": "d2dd9ab5144aeebe3d8a12144cf96bee",
     "grade": false,
     "grade_id": "cell-e684bcb749d74f3a",
     "locked": false,
     "schema_version": 3,
     "solution": true,
     "task": false
    }
   },
   "outputs": [],
   "source": [
    "# Add your plot code for NDVI difference here \n",
    "# YOUR CODE HERE\n",
    "raise NotImplementedError()\n",
    "\n",
    "### DO NOT REMOVE LINE BELOW ###\n",
    "fig02_NAIP_NDVI_diff = nb.convert_axes(plt, which_axes=\"all\")"
   ]
  },
  {
   "cell_type": "code",
   "execution_count": null,
   "metadata": {
    "deletable": false,
    "editable": false,
    "nbgrader": {
     "cell_type": "code",
     "checksum": "b2f58cf0f533a211f9bb20a4439c0f7f",
     "grade": true,
     "grade_id": "cell-6069400d1acd1092",
     "locked": true,
     "points": 15,
     "schema_version": 3,
     "solution": false,
     "task": false
    }
   },
   "outputs": [],
   "source": [
    "# Tests for figure 2 - NDVI values\n"
   ]
  },
  {
   "cell_type": "markdown",
   "metadata": {
    "deletable": false,
    "editable": false,
    "nbgrader": {
     "cell_type": "markdown",
     "checksum": "c155d19fd5345295f420483d269a83a3",
     "grade": false,
     "grade_id": "cell-c8eab50e39382779",
     "locked": true,
     "schema_version": 3,
     "solution": false,
     "task": false
    }
   },
   "source": [
    "## Question 2 (4 points)\n",
    "\n",
    "1. Why are NDVI values trending towards -1 in the difference raster plotted above?\n",
    "\n",
    "Write 1-3 sentences in the Markdown cell below. "
   ]
  },
  {
   "cell_type": "markdown",
   "metadata": {
    "deletable": false,
    "nbgrader": {
     "cell_type": "markdown",
     "checksum": "e43771d0750979e9c1859fcea6120052",
     "grade": true,
     "grade_id": "cell-73209ebdb66040b3",
     "locked": false,
     "points": 4,
     "schema_version": 3,
     "solution": true,
     "task": false
    }
   },
   "source": [
    "YOUR ANSWER HERE"
   ]
  },
  {
   "cell_type": "markdown",
   "metadata": {
    "deletable": false,
    "editable": false,
    "extensions": {
     "jupyter_dashboards": {
      "version": 1,
      "views": {
       "grid_default": {},
       "report_default": {
        "hidden": false
       }
      }
     }
    },
    "nbgrader": {
     "cell_type": "markdown",
     "checksum": "deded74e43f00c33e2990342dac860bb",
     "grade": false,
     "grade_id": "cell-fe368682036decb3",
     "locked": true,
     "schema_version": 3,
     "solution": false,
     "task": false
    }
   },
   "source": [
    "# Figure 3, Plots 4 & 5: RGB & CIR Images Using Pre-Fire Landsat Data (10 points each)\n",
    "\n",
    "Create a figure with two subplots:\n",
    "\n",
    "1. RGB image of the study site using the pre-fire Landsat data. \n",
    "2. Color Infrared (CIR) image of the study site using the pre-fire Landsat data.\n",
    "\n",
    "Include the Cold Springs fire boundary on each subplot. \n",
    "\n",
    "### Hints\n",
    "\n",
    "* Plot the data using ep.plot_rgb(). Set `stretch=True`.\n",
    "* Keep track of the CRS for all data layers as you create this plot. You may need to reproject the data!\n",
    "* Make sure that you use the correct bands to create both images.\n",
    "    * In a CIR image, the:\n",
    "        * Infrared band will appear red.\n",
    "        * Red band will appear green.\n",
    "        * Green band will appear blue.\n",
    "* Title should include the date that the data were collected.\n",
    "\n",
    "### Necessary Data\n",
    "\n",
    "Use the following data to create these plots: \n",
    "\n",
    "* Landsat Pre-fire Data: \n",
    "`cold-springs-fire/landsat_collect/LC080340322016070701T1-SC20180214145604/crop/`"
   ]
  },
  {
   "cell_type": "code",
   "execution_count": null,
   "metadata": {
    "deletable": false,
    "extensions": {
     "jupyter_dashboards": {
      "version": 1,
      "views": {
       "grid_default": {},
       "report_default": {
        "hidden": true
       }
      }
     }
    },
    "nbgrader": {
     "cell_type": "code",
     "checksum": "9f9e96edfa5b6c11cfc935525728753b",
     "grade": false,
     "grade_id": "cell-d01d6e18cdadbbdc",
     "locked": false,
     "schema_version": 3,
     "solution": true,
     "task": false
    },
    "tags": [
     "hide"
    ]
   },
   "outputs": [],
   "source": [
    "# Import, stack landsat pre-fire data\n",
    "\n",
    "# YOUR CODE HERE\n",
    "raise NotImplementedError()"
   ]
  },
  {
   "cell_type": "code",
   "execution_count": null,
   "metadata": {
    "caption": "Homework plots 4 & 5 RGB and CIR images using Landsat 8 pre-fire.",
    "deletable": false,
    "extensions": {
     "jupyter_dashboards": {
      "version": 1,
      "views": {
       "grid_default": {},
       "report_default": {
        "hidden": false
       }
      }
     }
    },
    "nbgrader": {
     "cell_type": "code",
     "checksum": "a213bbecaf7a6769f1d35cdaf03bf8d9",
     "grade": false,
     "grade_id": "cell-b458f260e09396b2",
     "locked": false,
     "schema_version": 3,
     "solution": true,
     "task": false
    },
    "tags": [
     "hide"
    ]
   },
   "outputs": [],
   "source": [
    "# HW Figure 3: Plots 4 & 5 go here - Only add to plot data\n",
    "\n",
    "# YOUR CODE HERE\n",
    "raise NotImplementedError()\n",
    "### DO NOT REMOVE LINE BELOW ###\n",
    "\n",
    "fig03_landsat_pre = nb.convert_axes(plt, which_axes=\"all\")"
   ]
  },
  {
   "cell_type": "code",
   "execution_count": null,
   "metadata": {
    "deletable": false,
    "editable": false,
    "nbgrader": {
     "cell_type": "code",
     "checksum": "102cd0f688446db64439088f83637e47",
     "grade": true,
     "grade_id": "cell-a6f22c79d7d20525",
     "locked": true,
     "points": 10,
     "schema_version": 3,
     "solution": false,
     "task": false
    }
   },
   "outputs": [],
   "source": [
    "# Tests for figure 3 ax 1 (plot 1) - RGB values\n"
   ]
  },
  {
   "cell_type": "code",
   "execution_count": null,
   "metadata": {
    "deletable": false,
    "editable": false,
    "nbgrader": {
     "cell_type": "code",
     "checksum": "b1c181a531ed71cc742bc70216243eea",
     "grade": true,
     "grade_id": "cell-49798c8588c606d7",
     "locked": true,
     "points": 10,
     "schema_version": 3,
     "solution": false,
     "task": false
    }
   },
   "outputs": [],
   "source": [
    "# Tests for figure 3 ax 2 (plot 2) - CIR values\n"
   ]
  },
  {
   "cell_type": "markdown",
   "metadata": {
    "deletable": false,
    "editable": false,
    "nbgrader": {
     "cell_type": "markdown",
     "checksum": "aa107f02a40937f0c5c37cb3e1bb9e33",
     "grade": false,
     "grade_id": "cell-18d643a870119a2a",
     "locked": true,
     "schema_version": 3,
     "solution": false,
     "task": false
    }
   },
   "source": [
    "## Question 3 (3 points)\n",
    "\n",
    "1. List 3 differences between NAIP and Landsat data.\n",
    "\n",
    "Answer in the Markdown cell below."
   ]
  },
  {
   "cell_type": "markdown",
   "metadata": {
    "deletable": false,
    "nbgrader": {
     "cell_type": "markdown",
     "checksum": "e286b78695a0c18c375895b9752f5600",
     "grade": true,
     "grade_id": "cell-972573d27a3fdf07",
     "locked": false,
     "points": 3,
     "schema_version": 3,
     "solution": true,
     "task": false
    }
   },
   "source": [
    "YOUR ANSWER HERE"
   ]
  },
  {
   "cell_type": "markdown",
   "metadata": {
    "deletable": false,
    "editable": false,
    "extensions": {
     "jupyter_dashboards": {
      "version": 1,
      "views": {
       "grid_default": {},
       "report_default": {
        "hidden": true
       }
      }
     }
    },
    "nbgrader": {
     "cell_type": "markdown",
     "checksum": "1568d072747dac8a3bb443bdbef157c1",
     "grade": false,
     "grade_id": "cell-a5f6d94d4db94147",
     "locked": true,
     "schema_version": 3,
     "solution": false,
     "task": false
    }
   },
   "source": [
    "# Figure 4, Plot 6: Calculate NDVI Using Pre-Fire Landsat Data (12 points)\n",
    "\n",
    "Create a map of NDVI before the Cold Springs fire using the pre-fire Landsat data.\n",
    "\n",
    "Include the Cold Springs fire boundary on your plot. \n",
    "\n",
    "### Hints\n",
    "\n",
    "* Be sure that you are using the correct bands to calculate NDVI with Landsat.\n",
    "* Title should include the date that the data were collected.\n",
    "\n",
    "### Necessary Data\n",
    "\n",
    "Use the following data to create these plots: \n",
    "\n",
    "* Landsat Pre-fire Data: \n",
    "`cold-springs-fire/landsat_collect/LC080340322016070701T1-SC20180214145604/crop/`"
   ]
  },
  {
   "cell_type": "code",
   "execution_count": null,
   "metadata": {
    "caption": "Homework plot  6 NDVI calculated from Landsat 8 pre-fire data.",
    "deletable": false,
    "extensions": {
     "jupyter_dashboards": {
      "version": 1,
      "views": {
       "grid_default": {},
       "report_default": {
        "hidden": false
       }
      }
     }
    },
    "nbgrader": {
     "cell_type": "code",
     "checksum": "de45bb0015db3ec924d9c989c23daeb8",
     "grade": false,
     "grade_id": "cell-5e8fa52a726341a7",
     "locked": false,
     "schema_version": 3,
     "solution": true,
     "task": false
    },
    "tags": [
     "hide"
    ]
   },
   "outputs": [],
   "source": [
    "# Calculate Landsat NDVI in this cell\n",
    "\n",
    "# YOUR CODE HERE\n",
    "raise NotImplementedError()"
   ]
  },
  {
   "cell_type": "code",
   "execution_count": null,
   "metadata": {
    "deletable": false,
    "nbgrader": {
     "cell_type": "code",
     "checksum": "58f4ddf02130867af46f61ffa58097b4",
     "grade": false,
     "grade_id": "cell-91fd56430a901279",
     "locked": false,
     "schema_version": 3,
     "solution": true,
     "task": false
    }
   },
   "outputs": [],
   "source": [
    "# Add plot of Landsat NDVI here\n",
    "\n",
    "# YOUR CODE HERE\n",
    "raise NotImplementedError()\n",
    "\n",
    "### DO NOT REMOVE LINE BELOW ###\n",
    "fig04_landsat_ndvi = nb.convert_axes(plt, which_axes=\"all\")"
   ]
  },
  {
   "cell_type": "code",
   "execution_count": null,
   "metadata": {
    "deletable": false,
    "editable": false,
    "nbgrader": {
     "cell_type": "code",
     "checksum": "66bb4c965ff922f33771db628d20b3fb",
     "grade": true,
     "grade_id": "cell-d1282b4ae86a8955",
     "locked": true,
     "points": 12,
     "schema_version": 3,
     "solution": false,
     "task": false
    }
   },
   "outputs": [],
   "source": [
    "# Tests for Figure 4 - NDVI values\n"
   ]
  },
  {
   "cell_type": "code",
   "execution_count": null,
   "metadata": {
    "deletable": false,
    "nbgrader": {
     "cell_type": "code",
     "checksum": "cd3e8bdb8030e8dee723ea6cdd6d8896",
     "grade": false,
     "grade_id": "cell-eceabc0b7efcb501",
     "locked": false,
     "schema_version": 3,
     "solution": true,
     "task": false
    }
   },
   "outputs": [],
   "source": [
    "# In this cell, create two objects that are of type `integer`:\n",
    "# one object for the resolution of NAIP data (2 points)\n",
    "# one object for the resolution of Landsat data (using the metadata object) (2 points)\n",
    "\n",
    "# IMPORTANT: Name your objects: naip_res and landsat_res\n",
    "\n",
    "# YOUR CODE HERE\n",
    "raise NotImplementedError()"
   ]
  },
  {
   "cell_type": "code",
   "execution_count": null,
   "metadata": {
    "deletable": false,
    "editable": false,
    "nbgrader": {
     "cell_type": "code",
     "checksum": "8c49437cce7d9fe085c21f8562f20af6",
     "grade": true,
     "grade_id": "cell-0d77d9d270d7da49",
     "locked": true,
     "points": 4,
     "schema_version": 3,
     "solution": false,
     "task": false
    }
   },
   "outputs": [],
   "source": []
  },
  {
   "cell_type": "markdown",
   "metadata": {
    "deletable": false,
    "editable": false,
    "nbgrader": {
     "cell_type": "markdown",
     "checksum": "0b76048ea8c9771a35782dc385b7e393",
     "grade": false,
     "grade_id": "cell-173908bc675d0be1",
     "locked": true,
     "points": 0,
     "schema_version": 3,
     "solution": false,
     "task": true
    }
   },
   "source": [
    "# Do not edit this cell! (4 points)\n",
    "\n",
    "* Each figure specifies the source of the data (for each plot) using a plot caption created with `ax.text()`."
   ]
  },
  {
   "cell_type": "markdown",
   "metadata": {
    "deletable": false,
    "editable": false,
    "nbgrader": {
     "cell_type": "markdown",
     "checksum": "f1b3bfe34dc210e7a534659bac029a1f",
     "grade": false,
     "grade_id": "cell-6369afa406a02347",
     "locked": true,
     "points": 0,
     "schema_version": 3,
     "solution": false,
     "task": true
    }
   },
   "source": [
    "# Do not edit this cell! (9 points)\n",
    "The notebook will also be checked for overall clean code requirements as specified at the **very top** of this notebook! Some of these requirements include (review the top cells for more specifics): \n",
    "\n",
    "* Notebook begins at cell [1] and runs on any machine in its entirety.\n",
    "* PEP 8 format is applied throughout (including lengths of comment and code lines).\n",
    "* No additional code or imports in the notebook\n",
    "* Notebook is fully reproducible. This means:\n",
    "   * reproducible paths using the os module.\n",
    "   * data downloaded using code in the notebook.\n",
    "   * all imports at top of notebook."
   ]
  }
 ],
 "metadata": {
  "extensions": {
   "jupyter_dashboards": {
    "activeView": "report_default",
    "version": 1,
    "views": {
     "grid_default": {
      "name": "grid",
      "type": "grid"
     },
     "report_default": {
      "name": "report",
      "type": "report"
     }
    }
   }
  },
  "kernelspec": {
   "display_name": "Python 3",
   "language": "python",
   "name": "python3"
  },
  "language_info": {
   "codemirror_mode": {
    "name": "ipython",
    "version": 3
   },
   "file_extension": ".py",
   "mimetype": "text/x-python",
   "name": "python",
   "nbconvert_exporter": "python",
   "pygments_lexer": "ipython3",
   "version": "3.7.6"
  },
  "toc": {
   "base_numbering": 1,
   "nav_menu": {},
   "number_sections": true,
   "sideBar": true,
   "skip_h1_title": false,
   "title_cell": "Table of Contents",
   "title_sidebar": "Contents",
   "toc_cell": false,
   "toc_position": {},
   "toc_section_display": true,
   "toc_window_display": true
  },
  "varInspector": {
   "cols": {
    "lenName": 16,
    "lenType": 16,
    "lenVar": 40
   },
   "kernels_config": {
    "python": {
     "delete_cmd_postfix": "",
     "delete_cmd_prefix": "del ",
     "library": "var_list.py",
     "varRefreshCmd": "print(var_dic_list())"
    },
    "r": {
     "delete_cmd_postfix": ") ",
     "delete_cmd_prefix": "rm(",
     "library": "var_list.r",
     "varRefreshCmd": "cat(var_dic_list()) "
    }
   },
   "types_to_exclude": [
    "module",
    "function",
    "builtin_function_or_method",
    "instance",
    "_Feature"
   ],
   "window_display": false
  }
 },
 "nbformat": 4,
 "nbformat_minor": 2
}
